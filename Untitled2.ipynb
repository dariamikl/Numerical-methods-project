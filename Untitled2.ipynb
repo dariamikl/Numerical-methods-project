{
 "cells": [
  {
   "cell_type": "code",
   "execution_count": 79,
   "metadata": {
    "scrolled": false
   },
   "outputs": [
    {
     "data": {
      "application/vnd.jupyter.widget-view+json": {
       "model_id": "0dfced523ec84fd28c387fd1910f3691",
       "version_major": 2,
       "version_minor": 0
      },
      "text/plain": [
       "interactive(children=(IntSlider(value=51, description='n', min=2), Text(value='1', description='y0'), Text(val…"
      ]
     },
     "metadata": {},
     "output_type": "display_data"
    }
   ],
   "source": [
    "import numpy as np\n",
    "import matplotlib.pyplot as plt\n",
    "import math\n",
    "from __future__ import print_function\n",
    "from ipywidgets import interact, interactive, fixed, interact_manual\n",
    "import ipywidgets as widgets\n",
    "\n",
    "\n",
    "def euler(n, y0, x0, xb):\n",
    "    \n",
    "\n",
    "    \n",
    "    #h = 0.1\n",
    "    h = (xb-x0)/float(n)\n",
    "    x = np.linspace(x0, xb, n)\n",
    "    y = np.zeros([n])\n",
    "    y[0] = y0\n",
    "    for i in range (1,n):\n",
    "        y[i] = y[i-1] + h*(y[i-1]/x[i-1] + x[i-1]/y[i-1])\n",
    " \n",
    "    return [x, y]\n",
    "    \n",
    "def runge_kutta(n, y0, x0, xb):\n",
    "  \n",
    "\n",
    "    #h = 0.1\n",
    "    def f(x,y):\n",
    "        return y/x + x/y\n",
    "    h = (xb-x0)/float(n)\n",
    "    x = np.linspace(x0, xb, n)\n",
    "    y = np.zeros([n])\n",
    "    y[0] = y0\n",
    "    \n",
    "    for i in range (1,n):\n",
    "        k1 = h*f(x[i-1], y[i-1])\n",
    "        k2 = h*f(x[i-1] + (h*0.5), y[i-1] + (k1*0.5))\n",
    "        k3 = h*f(x[i-1] + (h*0.5), y[i-1] + (k2*0.5))\n",
    "        k4 = h*f(x[i-1] + h, y[i-1] + k3)\n",
    "        delta_y = (k1+2*k2+2*k3+k4)/6\n",
    "        y[i] = y[i-1] + delta_y\n",
    " \n",
    "    return [x,y]\n",
    "\n",
    "def improved_euler(n, y0, x0, xb):\n",
    "\n",
    "    #h = 0.1\n",
    "    def f(x,y):\n",
    "        return y/x + x/y\n",
    "    h = (xb-x0)/float(n)\n",
    "    x = np.linspace(x0, xb, n)\n",
    "    y = np.zeros([n])\n",
    "    y_p = np.zeros([n])\n",
    "    y_p[0]=-1\n",
    "    y[0] = y0\n",
    "    for i in range (1,n):\n",
    "        y_p[i]=y[i-1] + h*f(x[i-1], y[i-1])\n",
    "        y[i] = y[i-1] + (h/2)*(f(x[i-1], y[i-1]) + f(x[i], y_p[i]))\n",
    " \n",
    "    return [x,y]\n",
    "def exact(n, y0, x0, xb):\n",
    "    c1=(y0/x0)**2 - 2*math.log(x0)\n",
    "\n",
    "    #h = 0.1\n",
    "    h = (xb-x0)/float(n)\n",
    "    x = np.linspace(x0, xb, n)\n",
    "    y = np.zeros([n])\n",
    "    y[0] = y0\n",
    "    for i in range (0, n):\n",
    "        y[i] = x[i]*math.sqrt(c1+math.log(x[i]**2))\n",
    "    return [x,y]\n",
    "def graph(n, y0, x0, xb)  : \n",
    "    \n",
    "    x0 = float(x0)\n",
    "    y0 = float(y0)\n",
    "    xb = float(xb)\n",
    "    n = int(n)\n",
    "    h = (xb-x0)/float(n)\n",
    "    %matplotlib inline\n",
    "    [x_e, y_e] = euler(n, y0, x0, xb)\n",
    "    [x_ie, y_ie] = improved_euler(n, y0, x0, xb)\n",
    "    [x_rk, y_rk] = runge_kutta(n, y0, x0, xb)\n",
    "    [x, y] = exact(n, y0, x0, xb)\n",
    "    plt.rcParams[\"figure.figsize\"] = (15,13)\n",
    "    plt.plot(x_e,y_e,marker='o', label = \"Euler\")\n",
    "    plt.plot(x_ie, y_ie, marker ='o', label=\"Improved Euler\")\n",
    "    plt.plot(x_rk, y_rk, marker='o', label = \"Runge-Kutta\")\n",
    "    plt.plot(x, y,marker='o', label=\"Exact\")\n",
    "    plt.xticks(np.arange(x0, xb, step=h),rotation='vertical', fontsize=8)\n",
    "    plt.grid( linestyle='-')\n",
    "    plt.legend()\n",
    "    plt.xlabel('X value')\n",
    "    plt.ylabel('Y label')\n",
    "    plt.title(\"Numerical methods\")\n",
    "    plt.show()\n",
    "interactive_plot = interactive(graph, n=(2,100), y0='1', x0='1', xb='2.3')\n",
    "output = interactive_plot.children[-1]\n",
    "output.layout.height = '1000px'\n",
    "interactive_plot"
   ]
  },
  {
   "cell_type": "markdown",
   "metadata": {},
   "source": [
    "$y'\\:=\\:\\frac{y}{x}+\\frac{x}{y}$"
   ]
  },
  {
   "cell_type": "code",
   "execution_count": 89,
   "metadata": {
    "scrolled": false
   },
   "outputs": [
    {
     "data": {
      "application/vnd.jupyter.widget-view+json": {
       "model_id": "895904ce47584d04946edb2a849c245d",
       "version_major": 2,
       "version_minor": 0
      },
      "text/plain": [
       "interactive(children=(IntSlider(value=51, description='n', min=2), Text(value='1', description='x0'), Text(val…"
      ]
     },
     "metadata": {},
     "output_type": "display_data"
    }
   ],
   "source": [
    "\n",
    "def sub(a,b):\n",
    "    e = np.zeros([len(a)])\n",
    "    for i in range(len(a)):\n",
    "        e[i] = abs(a[i] -b[i])\n",
    "    return e\n",
    "        \n",
    "def err(n, x0, y0, xb):\n",
    "    x0 = float(x0)\n",
    "    y0=float(y0)\n",
    "    xb=float(xb)\n",
    "    h = (xb-x0)/float(n)\n",
    "    \n",
    "    %matplotlib inline\n",
    "    [x_e, y_e] = [euler(n, y0, x0, xb)[0], sub(euler(n, y0, x0, xb)[1], exact(n, y0, x0, xb)[1])]\n",
    "    [x_ie, y_ie] = [improved_euler(n, y0, x0, xb)[0], sub(improved_euler(n, y0, x0, xb)[1], exact(n, y0, x0, xb)[1])]\n",
    "    [x_rk, y_rk] = [runge_kutta(n, y0, x0, xb)[0], sub(runge_kutta(n, y0, x0, xb)[1], exact(n, y0, x0, xb)[1])]\n",
    "    #[x, y] = exact(h)\n",
    "    plt.rcParams[\"figure.figsize\"] = (16,14)\n",
    "    plt.plot(x_e,y_e,marker='o', label = \"Euler\", markersize=6)\n",
    "    plt.plot(x_ie, y_ie, marker ='o', label=\"Improved Euler\",markersize=6)\n",
    "    plt.plot(x_rk, y_rk, marker='o', label = \"Runge-Kutta\",markersize=6)\n",
    "    plt.legend()\n",
    "    #plt.plot(x, y, 'r')\n",
    "    plt.ylim(0,0.2)\n",
    "    plt.xticks(np.arange(x0, xb, step=h),rotation='vertical', fontsize=8)\n",
    "    plt.xlim(x0, xb)\n",
    "    plt.grid( linestyle='-')\n",
    "    plt.xlabel('X value')\n",
    "    plt.ylabel('Y label')\n",
    "    plt.title(\"Truncation error\")\n",
    "   \n",
    "    plt.show()\n",
    "interactive_plot = interactive(err, n=(2, 100), x0='1', y0='1', xb='2.3')\n",
    "output = interactive_plot.children[-1]\n",
    "output.layout.height = '1000px'\n",
    "interactive_plot"
   ]
  },
  {
   "cell_type": "code",
   "execution_count": null,
   "metadata": {},
   "outputs": [],
   "source": []
  }
 ],
 "metadata": {
  "kernelspec": {
   "display_name": "Python 3",
   "language": "python",
   "name": "python3"
  },
  "language_info": {
   "codemirror_mode": {
    "name": "ipython",
    "version": 3
   },
   "file_extension": ".py",
   "mimetype": "text/x-python",
   "name": "python",
   "nbconvert_exporter": "python",
   "pygments_lexer": "ipython3",
   "version": "3.6.5"
  }
 },
 "nbformat": 4,
 "nbformat_minor": 2
}
